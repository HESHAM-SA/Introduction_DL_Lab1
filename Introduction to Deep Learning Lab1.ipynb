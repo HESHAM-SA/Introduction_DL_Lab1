{
 "cells": [
  {
   "cell_type": "markdown",
   "id": "4812010e",
   "metadata": {},
   "source": [
    "# Introduction to Deep Learning\n",
    "\n",
    "## Objectives\n",
    "In this lab, you will embark on the journey of creating a ANN, DNN model tailored for predicting the total expenditure of potential consumers based on various characteristics. As a vehicle salesperson, your goal is to develop a model that can effectively estimate the overall spending potential.\n",
    "\n",
    "Your task is to build and train an ANN/DNN model using tensorflow in a Jupyter notebook.\n",
    "\n",
    "Feel Free to Explore the dataset, analyze its contents, and derive meaningful insights. Additionally, feel empowered to create insightful visualizations that enhance the understanding of the data. "
   ]
  },
  {
   "cell_type": "markdown",
   "id": "da5b7ee8",
   "metadata": {},
   "source": [
    "# Step 1: Import Libraries"
   ]
  },
  {
   "cell_type": "code",
   "execution_count": 262,
   "id": "4aa7a64f",
   "metadata": {},
   "outputs": [],
   "source": [
    "import pandas as pd\n",
    "import numpy as np\n",
    "import matplotlib.pyplot as plt\n",
    "from sklearn.model_selection import train_test_split\n",
    "from sklearn.preprocessing import StandardScaler,MinMaxScaler\n",
    "from sklearn.metrics import accuracy_score, confusion_matrix\n",
    "from tensorflow.keras.models import Sequential\n",
    "from tensorflow.keras.layers import Dense\n",
    "from sklearn.metrics import accuracy_score, f1_score, precision_score, recall_score,mean_absolute_error,mean_squared_error\n",
    "import time\n",
    "\n",
    "\n",
    "import warnings\n",
    "\n",
    "# Ignore all warnings\n",
    "warnings.filterwarnings(\"ignore\")"
   ]
  },
  {
   "cell_type": "markdown",
   "id": "2d843bfa",
   "metadata": {},
   "source": [
    "# Step 2: Load and Explore the Data"
   ]
  },
  {
   "cell_type": "code",
   "execution_count": 263,
   "id": "586083a4",
   "metadata": {},
   "outputs": [],
   "source": [
    "df = pd.read_csv('car_purchasing.csv',encoding='latin-1')"
   ]
  },
  {
   "cell_type": "markdown",
   "id": "2d3ed46e",
   "metadata": {},
   "source": [
    "# Step 3: Data Cleaning and Preprocessing\n",
    "\n",
    "\n",
    "**Hint: You could use a `StandardScaler()` or `MinMaxScaler()`**"
   ]
  },
  {
   "cell_type": "code",
   "execution_count": 264,
   "metadata": {},
   "outputs": [
    {
     "data": {
      "text/html": [
       "<div>\n",
       "<style scoped>\n",
       "    .dataframe tbody tr th:only-of-type {\n",
       "        vertical-align: middle;\n",
       "    }\n",
       "\n",
       "    .dataframe tbody tr th {\n",
       "        vertical-align: top;\n",
       "    }\n",
       "\n",
       "    .dataframe thead th {\n",
       "        text-align: right;\n",
       "    }\n",
       "</style>\n",
       "<table border=\"1\" class=\"dataframe\">\n",
       "  <thead>\n",
       "    <tr style=\"text-align: right;\">\n",
       "      <th></th>\n",
       "      <th>customer name</th>\n",
       "      <th>customer e-mail</th>\n",
       "      <th>country</th>\n",
       "      <th>gender</th>\n",
       "      <th>age</th>\n",
       "      <th>annual Salary</th>\n",
       "      <th>credit card debt</th>\n",
       "      <th>net worth</th>\n",
       "      <th>car purchase amount</th>\n",
       "    </tr>\n",
       "  </thead>\n",
       "  <tbody>\n",
       "    <tr>\n",
       "      <th>0</th>\n",
       "      <td>Martina Avila</td>\n",
       "      <td>cubilia.Curae.Phasellus@quisaccumsanconvallis.edu</td>\n",
       "      <td>Bulgaria</td>\n",
       "      <td>0</td>\n",
       "      <td>41.851720</td>\n",
       "      <td>62812.09301</td>\n",
       "      <td>11609.380910</td>\n",
       "      <td>238961.2505</td>\n",
       "      <td>35321.45877</td>\n",
       "    </tr>\n",
       "    <tr>\n",
       "      <th>1</th>\n",
       "      <td>Harlan Barnes</td>\n",
       "      <td>eu.dolor@diam.co.uk</td>\n",
       "      <td>Belize</td>\n",
       "      <td>0</td>\n",
       "      <td>40.870623</td>\n",
       "      <td>66646.89292</td>\n",
       "      <td>9572.957136</td>\n",
       "      <td>530973.9078</td>\n",
       "      <td>45115.52566</td>\n",
       "    </tr>\n",
       "    <tr>\n",
       "      <th>2</th>\n",
       "      <td>Naomi Rodriquez</td>\n",
       "      <td>vulputate.mauris.sagittis@ametconsectetueradip...</td>\n",
       "      <td>Algeria</td>\n",
       "      <td>1</td>\n",
       "      <td>43.152897</td>\n",
       "      <td>53798.55112</td>\n",
       "      <td>11160.355060</td>\n",
       "      <td>638467.1773</td>\n",
       "      <td>42925.70921</td>\n",
       "    </tr>\n",
       "    <tr>\n",
       "      <th>3</th>\n",
       "      <td>Jade Cunningham</td>\n",
       "      <td>malesuada@dignissim.com</td>\n",
       "      <td>Cook Islands</td>\n",
       "      <td>1</td>\n",
       "      <td>58.271369</td>\n",
       "      <td>79370.03798</td>\n",
       "      <td>14426.164850</td>\n",
       "      <td>548599.0524</td>\n",
       "      <td>67422.36313</td>\n",
       "    </tr>\n",
       "    <tr>\n",
       "      <th>4</th>\n",
       "      <td>Cedric Leach</td>\n",
       "      <td>felis.ullamcorper.viverra@egetmollislectus.net</td>\n",
       "      <td>Brazil</td>\n",
       "      <td>1</td>\n",
       "      <td>57.313749</td>\n",
       "      <td>59729.15130</td>\n",
       "      <td>5358.712177</td>\n",
       "      <td>560304.0671</td>\n",
       "      <td>55915.46248</td>\n",
       "    </tr>\n",
       "  </tbody>\n",
       "</table>\n",
       "</div>"
      ],
      "text/plain": [
       "     customer name                                    customer e-mail  \\\n",
       "0    Martina Avila  cubilia.Curae.Phasellus@quisaccumsanconvallis.edu   \n",
       "1    Harlan Barnes                                eu.dolor@diam.co.uk   \n",
       "2  Naomi Rodriquez  vulputate.mauris.sagittis@ametconsectetueradip...   \n",
       "3  Jade Cunningham                            malesuada@dignissim.com   \n",
       "4     Cedric Leach     felis.ullamcorper.viverra@egetmollislectus.net   \n",
       "\n",
       "        country  gender        age  annual Salary  credit card debt  \\\n",
       "0      Bulgaria       0  41.851720    62812.09301      11609.380910   \n",
       "1        Belize       0  40.870623    66646.89292       9572.957136   \n",
       "2       Algeria       1  43.152897    53798.55112      11160.355060   \n",
       "3  Cook Islands       1  58.271369    79370.03798      14426.164850   \n",
       "4        Brazil       1  57.313749    59729.15130       5358.712177   \n",
       "\n",
       "     net worth  car purchase amount  \n",
       "0  238961.2505          35321.45877  \n",
       "1  530973.9078          45115.52566  \n",
       "2  638467.1773          42925.70921  \n",
       "3  548599.0524          67422.36313  \n",
       "4  560304.0671          55915.46248  "
      ]
     },
     "execution_count": 264,
     "metadata": {},
     "output_type": "execute_result"
    }
   ],
   "source": [
    "df.head()"
   ]
  },
  {
   "cell_type": "code",
   "execution_count": 265,
   "metadata": {},
   "outputs": [],
   "source": [
    "df.drop(['customer name','customer e-mail'],axis=1,inplace=True)"
   ]
  },
  {
   "cell_type": "code",
   "execution_count": 267,
   "metadata": {},
   "outputs": [],
   "source": [
    "from sklearn.calibration import LabelEncoder\n",
    "label_encoder = LabelEncoder()\n",
    "df['country'] = label_encoder.fit_transform(df['country'])"
   ]
  },
  {
   "cell_type": "code",
   "execution_count": 238,
   "id": "45dbe596",
   "metadata": {},
   "outputs": [],
   "source": [
    "scaler = MinMaxScaler()\n",
    "\n",
    "scaled = scaler.fit_transform(df[['annual Salary','credit card debt','net worth']])\n",
    "\n",
    "df[['annual Salary','credit card debt','net worth']] = scaled"
   ]
  },
  {
   "cell_type": "code",
   "execution_count": 239,
   "metadata": {},
   "outputs": [
    {
     "data": {
      "text/html": [
       "<div>\n",
       "<style scoped>\n",
       "    .dataframe tbody tr th:only-of-type {\n",
       "        vertical-align: middle;\n",
       "    }\n",
       "\n",
       "    .dataframe tbody tr th {\n",
       "        vertical-align: top;\n",
       "    }\n",
       "\n",
       "    .dataframe thead th {\n",
       "        text-align: right;\n",
       "    }\n",
       "</style>\n",
       "<table border=\"1\" class=\"dataframe\">\n",
       "  <thead>\n",
       "    <tr style=\"text-align: right;\">\n",
       "      <th></th>\n",
       "      <th>country</th>\n",
       "      <th>gender</th>\n",
       "      <th>age</th>\n",
       "      <th>annual Salary</th>\n",
       "      <th>credit card debt</th>\n",
       "      <th>net worth</th>\n",
       "      <th>car purchase amount</th>\n",
       "    </tr>\n",
       "  </thead>\n",
       "  <tbody>\n",
       "    <tr>\n",
       "      <th>0</th>\n",
       "      <td>27</td>\n",
       "      <td>0</td>\n",
       "      <td>41.851720</td>\n",
       "      <td>0.535151</td>\n",
       "      <td>0.578361</td>\n",
       "      <td>0.223430</td>\n",
       "      <td>35321.45877</td>\n",
       "    </tr>\n",
       "    <tr>\n",
       "      <th>1</th>\n",
       "      <td>17</td>\n",
       "      <td>0</td>\n",
       "      <td>40.870623</td>\n",
       "      <td>0.583086</td>\n",
       "      <td>0.476028</td>\n",
       "      <td>0.521402</td>\n",
       "      <td>45115.52566</td>\n",
       "    </tr>\n",
       "    <tr>\n",
       "      <th>2</th>\n",
       "      <td>1</td>\n",
       "      <td>1</td>\n",
       "      <td>43.152897</td>\n",
       "      <td>0.422482</td>\n",
       "      <td>0.555797</td>\n",
       "      <td>0.631089</td>\n",
       "      <td>42925.70921</td>\n",
       "    </tr>\n",
       "    <tr>\n",
       "      <th>3</th>\n",
       "      <td>41</td>\n",
       "      <td>1</td>\n",
       "      <td>58.271369</td>\n",
       "      <td>0.742125</td>\n",
       "      <td>0.719908</td>\n",
       "      <td>0.539387</td>\n",
       "      <td>67422.36313</td>\n",
       "    </tr>\n",
       "    <tr>\n",
       "      <th>4</th>\n",
       "      <td>26</td>\n",
       "      <td>1</td>\n",
       "      <td>57.313749</td>\n",
       "      <td>0.496614</td>\n",
       "      <td>0.264257</td>\n",
       "      <td>0.551331</td>\n",
       "      <td>55915.46248</td>\n",
       "    </tr>\n",
       "  </tbody>\n",
       "</table>\n",
       "</div>"
      ],
      "text/plain": [
       "   country  gender        age  annual Salary  credit card debt  net worth  \\\n",
       "0       27       0  41.851720       0.535151          0.578361   0.223430   \n",
       "1       17       0  40.870623       0.583086          0.476028   0.521402   \n",
       "2        1       1  43.152897       0.422482          0.555797   0.631089   \n",
       "3       41       1  58.271369       0.742125          0.719908   0.539387   \n",
       "4       26       1  57.313749       0.496614          0.264257   0.551331   \n",
       "\n",
       "   car purchase amount  \n",
       "0          35321.45877  \n",
       "1          45115.52566  \n",
       "2          42925.70921  \n",
       "3          67422.36313  \n",
       "4          55915.46248  "
      ]
     },
     "execution_count": 239,
     "metadata": {},
     "output_type": "execute_result"
    }
   ],
   "source": [
    "df.head()"
   ]
  },
  {
   "cell_type": "markdown",
   "id": "4d654aaa",
   "metadata": {},
   "source": [
    "# Step 4: Train Test Split"
   ]
  },
  {
   "cell_type": "code",
   "execution_count": 240,
   "id": "54687a91",
   "metadata": {},
   "outputs": [],
   "source": [
    "X = df.drop('car purchase amount',axis=1)\n",
    "Y = df['car purchase amount']\n",
    "X_train, X_test, Y_train, Y_test = train_test_split(X, Y, test_size=0.2, random_state=42)\n"
   ]
  },
  {
   "cell_type": "markdown",
   "id": "db652a21",
   "metadata": {},
   "source": [
    "# Step 5: Build the Artifical Neural Network Model"
   ]
  },
  {
   "cell_type": "code",
   "execution_count": 241,
   "id": "c7612a38",
   "metadata": {},
   "outputs": [],
   "source": [
    "model_ANN = Sequential()\n",
    "\n",
    "model_ANN.add(Dense(units=32, activation='relu', input_shape=(X_train.shape[1],)))\n",
    "\n",
    "model_ANN.add(Dense(units=1, activation='linear'))\n",
    "\n",
    "model_ANN.compile(\n",
    "    optimizer='adam',\n",
    "    loss='mean_squared_error',\n",
    "    metrics=['mse']\n",
    ")"
   ]
  },
  {
   "cell_type": "markdown",
   "id": "368f070a",
   "metadata": {},
   "source": [
    "### Clarify Your Artificial Neural Network (ANN) Model, Optimization, and Loss Function Choices and justify"
   ]
  },
  {
   "cell_type": "markdown",
   "id": "1350f619",
   "metadata": {},
   "source": [
    "- Input neurons: 6 features in the dataset.\n",
    "\n",
    "- Hidden neurons: 32 neaurons.\n",
    "\n",
    "- Output neurons: 1 neuron for predicting a continuous value.\n",
    "\n",
    "- Optimizer: Adam: Adaptive Moment Estimation combines aspects of RMSprop and Momentum, adjusting learning rates for each parameter individually.\n",
    "\n",
    "- Loss function: MSE bc we have Regression Tasks.\n",
    "\n",
    "- Metrics: MSE monitoring for model performance in Regression Tasks.\n"
   ]
  },
  {
   "cell_type": "markdown",
   "id": "9d3d0afe",
   "metadata": {},
   "source": [
    "# Step 6: Train the Model\n"
   ]
  },
  {
   "cell_type": "code",
   "execution_count": 242,
   "id": "df82b416",
   "metadata": {},
   "outputs": [
    {
     "name": "stdout",
     "output_type": "stream",
     "text": [
      "Epoch 1/50\n"
     ]
    },
    {
     "name": "stdout",
     "output_type": "stream",
     "text": [
      "10/10 [==============================] - 1s 22ms/step - loss: 2074318080.0000 - mse: 2074318080.0000 - val_loss: 1936686080.0000 - val_mse: 1936686080.0000\n",
      "Epoch 2/50\n",
      "10/10 [==============================] - 0s 6ms/step - loss: 2073972992.0000 - mse: 2073972992.0000 - val_loss: 1936334464.0000 - val_mse: 1936334464.0000\n",
      "Epoch 3/50\n",
      "10/10 [==============================] - 0s 6ms/step - loss: 2073616000.0000 - mse: 2073616000.0000 - val_loss: 1935962368.0000 - val_mse: 1935962368.0000\n",
      "Epoch 4/50\n",
      "10/10 [==============================] - 0s 11ms/step - loss: 2073230720.0000 - mse: 2073230720.0000 - val_loss: 1935564800.0000 - val_mse: 1935564800.0000\n",
      "Epoch 5/50\n",
      "10/10 [==============================] - 0s 6ms/step - loss: 2072811776.0000 - mse: 2072811776.0000 - val_loss: 1935134336.0000 - val_mse: 1935134336.0000\n",
      "Epoch 6/50\n",
      "10/10 [==============================] - 0s 6ms/step - loss: 2072368512.0000 - mse: 2072368512.0000 - val_loss: 1934649728.0000 - val_mse: 1934649728.0000\n",
      "Epoch 7/50\n",
      "10/10 [==============================] - 0s 6ms/step - loss: 2071862912.0000 - mse: 2071862912.0000 - val_loss: 1934116096.0000 - val_mse: 1934116096.0000\n",
      "Epoch 8/50\n",
      "10/10 [==============================] - 0s 6ms/step - loss: 2071294976.0000 - mse: 2071294976.0000 - val_loss: 1933531904.0000 - val_mse: 1933531904.0000\n",
      "Epoch 9/50\n",
      "10/10 [==============================] - 0s 6ms/step - loss: 2070684288.0000 - mse: 2070684288.0000 - val_loss: 1932879872.0000 - val_mse: 1932879872.0000\n",
      "Epoch 10/50\n",
      "10/10 [==============================] - 0s 6ms/step - loss: 2069992448.0000 - mse: 2069992448.0000 - val_loss: 1932172288.0000 - val_mse: 1932172288.0000\n",
      "Epoch 11/50\n",
      "10/10 [==============================] - 0s 6ms/step - loss: 2069229824.0000 - mse: 2069229824.0000 - val_loss: 1931405952.0000 - val_mse: 1931405952.0000\n",
      "Epoch 12/50\n",
      "10/10 [==============================] - 0s 6ms/step - loss: 2068422656.0000 - mse: 2068422656.0000 - val_loss: 1930554752.0000 - val_mse: 1930554752.0000\n",
      "Epoch 13/50\n",
      "10/10 [==============================] - 0s 6ms/step - loss: 2067516672.0000 - mse: 2067516672.0000 - val_loss: 1929634816.0000 - val_mse: 1929634816.0000\n",
      "Epoch 14/50\n",
      "10/10 [==============================] - 0s 6ms/step - loss: 2066531072.0000 - mse: 2066531072.0000 - val_loss: 1928637184.0000 - val_mse: 1928637184.0000\n",
      "Epoch 15/50\n",
      "10/10 [==============================] - 0s 6ms/step - loss: 2065457408.0000 - mse: 2065457408.0000 - val_loss: 1927547648.0000 - val_mse: 1927547648.0000\n",
      "Epoch 16/50\n",
      "10/10 [==============================] - 0s 6ms/step - loss: 2064290560.0000 - mse: 2064290560.0000 - val_loss: 1926337536.0000 - val_mse: 1926337536.0000\n",
      "Epoch 17/50\n",
      "10/10 [==============================] - 0s 10ms/step - loss: 2062987008.0000 - mse: 2062987008.0000 - val_loss: 1925009152.0000 - val_mse: 1925009152.0000\n",
      "Epoch 18/50\n",
      "10/10 [==============================] - 0s 6ms/step - loss: 2061576448.0000 - mse: 2061576448.0000 - val_loss: 1923586048.0000 - val_mse: 1923586048.0000\n",
      "Epoch 19/50\n",
      "10/10 [==============================] - 0s 6ms/step - loss: 2060062464.0000 - mse: 2060062464.0000 - val_loss: 1922073856.0000 - val_mse: 1922073856.0000\n",
      "Epoch 20/50\n",
      "10/10 [==============================] - 0s 6ms/step - loss: 2058476928.0000 - mse: 2058476928.0000 - val_loss: 1920423936.0000 - val_mse: 1920423936.0000\n",
      "Epoch 21/50\n",
      "10/10 [==============================] - 0s 6ms/step - loss: 2056709120.0000 - mse: 2056709120.0000 - val_loss: 1918670208.0000 - val_mse: 1918670208.0000\n",
      "Epoch 22/50\n",
      "10/10 [==============================] - 0s 6ms/step - loss: 2054871424.0000 - mse: 2054871424.0000 - val_loss: 1916792192.0000 - val_mse: 1916792192.0000\n",
      "Epoch 23/50\n",
      "10/10 [==============================] - 0s 6ms/step - loss: 2052916224.0000 - mse: 2052916224.0000 - val_loss: 1914811648.0000 - val_mse: 1914811648.0000\n",
      "Epoch 24/50\n",
      "10/10 [==============================] - 0s 6ms/step - loss: 2050865408.0000 - mse: 2050865408.0000 - val_loss: 1912728832.0000 - val_mse: 1912728832.0000\n",
      "Epoch 25/50\n",
      "10/10 [==============================] - 0s 6ms/step - loss: 2048686848.0000 - mse: 2048686848.0000 - val_loss: 1910567552.0000 - val_mse: 1910567552.0000\n",
      "Epoch 26/50\n",
      "10/10 [==============================] - 0s 6ms/step - loss: 2046416512.0000 - mse: 2046416512.0000 - val_loss: 1908320512.0000 - val_mse: 1908320512.0000\n",
      "Epoch 27/50\n",
      "10/10 [==============================] - 0s 6ms/step - loss: 2044075392.0000 - mse: 2044075392.0000 - val_loss: 1905964800.0000 - val_mse: 1905964800.0000\n",
      "Epoch 28/50\n",
      "10/10 [==============================] - 0s 6ms/step - loss: 2041627008.0000 - mse: 2041627008.0000 - val_loss: 1903512192.0000 - val_mse: 1903512192.0000\n",
      "Epoch 29/50\n",
      "10/10 [==============================] - 0s 6ms/step - loss: 2039102208.0000 - mse: 2039102208.0000 - val_loss: 1900951936.0000 - val_mse: 1900951936.0000\n",
      "Epoch 30/50\n",
      "10/10 [==============================] - 0s 5ms/step - loss: 2036430464.0000 - mse: 2036430464.0000 - val_loss: 1898330368.0000 - val_mse: 1898330368.0000\n",
      "Epoch 31/50\n",
      "10/10 [==============================] - 0s 6ms/step - loss: 2033704576.0000 - mse: 2033704576.0000 - val_loss: 1895613824.0000 - val_mse: 1895613824.0000\n",
      "Epoch 32/50\n",
      "10/10 [==============================] - 0s 6ms/step - loss: 2030868096.0000 - mse: 2030868096.0000 - val_loss: 1892817280.0000 - val_mse: 1892817280.0000\n",
      "Epoch 33/50\n",
      "10/10 [==============================] - 0s 11ms/step - loss: 2027974912.0000 - mse: 2027974912.0000 - val_loss: 1889913216.0000 - val_mse: 1889913216.0000\n",
      "Epoch 34/50\n",
      "10/10 [==============================] - 0s 6ms/step - loss: 2024963072.0000 - mse: 2024963072.0000 - val_loss: 1886929152.0000 - val_mse: 1886929152.0000\n",
      "Epoch 35/50\n",
      "10/10 [==============================] - 0s 7ms/step - loss: 2021860096.0000 - mse: 2021860096.0000 - val_loss: 1883862656.0000 - val_mse: 1883862656.0000\n",
      "Epoch 36/50\n",
      "10/10 [==============================] - 0s 7ms/step - loss: 2018712832.0000 - mse: 2018712832.0000 - val_loss: 1880678784.0000 - val_mse: 1880678784.0000\n",
      "Epoch 37/50\n",
      "10/10 [==============================] - 0s 6ms/step - loss: 2015401600.0000 - mse: 2015401600.0000 - val_loss: 1877439744.0000 - val_mse: 1877439744.0000\n",
      "Epoch 38/50\n",
      "10/10 [==============================] - 0s 7ms/step - loss: 2012038784.0000 - mse: 2012038784.0000 - val_loss: 1874105728.0000 - val_mse: 1874105728.0000\n",
      "Epoch 39/50\n",
      "10/10 [==============================] - 0s 7ms/step - loss: 2008600960.0000 - mse: 2008600960.0000 - val_loss: 1870648320.0000 - val_mse: 1870648320.0000\n",
      "Epoch 40/50\n",
      "10/10 [==============================] - 0s 7ms/step - loss: 2004947712.0000 - mse: 2004947712.0000 - val_loss: 1867141504.0000 - val_mse: 1867141504.0000\n",
      "Epoch 41/50\n",
      "10/10 [==============================] - 0s 14ms/step - loss: 2001320320.0000 - mse: 2001320320.0000 - val_loss: 1863405952.0000 - val_mse: 1863405952.0000\n",
      "Epoch 42/50\n",
      "10/10 [==============================] - 0s 6ms/step - loss: 1997421568.0000 - mse: 1997421568.0000 - val_loss: 1859540992.0000 - val_mse: 1859540992.0000\n",
      "Epoch 43/50\n",
      "10/10 [==============================] - 0s 6ms/step - loss: 1993443968.0000 - mse: 1993443968.0000 - val_loss: 1855556352.0000 - val_mse: 1855556352.0000\n",
      "Epoch 44/50\n",
      "10/10 [==============================] - 0s 7ms/step - loss: 1989287296.0000 - mse: 1989287296.0000 - val_loss: 1851525120.0000 - val_mse: 1851525120.0000\n",
      "Epoch 45/50\n",
      "10/10 [==============================] - 0s 7ms/step - loss: 1985088896.0000 - mse: 1985088896.0000 - val_loss: 1847400192.0000 - val_mse: 1847400192.0000\n",
      "Epoch 46/50\n",
      "10/10 [==============================] - 0s 7ms/step - loss: 1980823168.0000 - mse: 1980823168.0000 - val_loss: 1843163520.0000 - val_mse: 1843163520.0000\n",
      "Epoch 47/50\n",
      "10/10 [==============================] - 0s 6ms/step - loss: 1976458624.0000 - mse: 1976458624.0000 - val_loss: 1838829952.0000 - val_mse: 1838829952.0000\n",
      "Epoch 48/50\n",
      "10/10 [==============================] - 0s 7ms/step - loss: 1971979904.0000 - mse: 1971979904.0000 - val_loss: 1834426368.0000 - val_mse: 1834426368.0000\n",
      "Epoch 49/50\n",
      "10/10 [==============================] - 0s 6ms/step - loss: 1967423872.0000 - mse: 1967423872.0000 - val_loss: 1829945728.0000 - val_mse: 1829945728.0000\n",
      "Epoch 50/50\n",
      "10/10 [==============================] - 0s 11ms/step - loss: 1962851968.0000 - mse: 1962851968.0000 - val_loss: 1825333248.0000 - val_mse: 1825333248.0000\n"
     ]
    }
   ],
   "source": [
    "start_time_ANN = time.time()\n",
    "model_ANN.fit(X_train,Y_train, epochs=50, batch_size=32, validation_split=0.2)\n",
    "training_time_ANN = time.time() - start_time_ANN\n"
   ]
  },
  {
   "cell_type": "markdown",
   "id": "ef00d5d7",
   "metadata": {},
   "source": [
    "# Step 7: Evaluate the Model"
   ]
  },
  {
   "cell_type": "code",
   "execution_count": 243,
   "metadata": {},
   "outputs": [
    {
     "name": "stdout",
     "output_type": "stream",
     "text": [
      "4/4 [==============================] - 0s 2ms/step\n"
     ]
    }
   ],
   "source": [
    "start_time_ANN = time.time()\n",
    "Y_pred_ANN = model_ANN.predict(X_test)\n",
    "prediction_time_ANN = time.time() - start_time_ANN\n"
   ]
  },
  {
   "cell_type": "code",
   "execution_count": 244,
   "id": "15e3f605",
   "metadata": {},
   "outputs": [
    {
     "name": "stdout",
     "output_type": "stream",
     "text": [
      "MSE: 2044589132.72\n",
      "MAE: 44008.64\n"
     ]
    }
   ],
   "source": [
    "mse_ANN = mean_squared_error(Y_test, Y_pred_ANN)\n",
    "mae_ANN = mean_absolute_error(Y_test,Y_pred_ANN)\n",
    "\n",
    "print(f'MSE: {mse_ANN:.2f}')\n",
    "print(f'MAE: {mae_ANN:.2f}')\n"
   ]
  },
  {
   "cell_type": "markdown",
   "id": "298936f8",
   "metadata": {},
   "source": [
    "# Step 8: Build the Deep Neural Network Model"
   ]
  },
  {
   "cell_type": "code",
   "execution_count": 245,
   "id": "7b040bf5",
   "metadata": {},
   "outputs": [],
   "source": [
    "model_DNN = Sequential()\n",
    "model_DNN.add(Dense(units=32, activation='relu', input_shape=(X_train.shape[1],)))\n",
    "\n",
    "model_DNN.add(Dense(units=32, activation='relu'))\n",
    "model_DNN.add(Dense(units=32, activation='relu'))\n",
    "\n",
    "model_DNN.add(Dense(units=1, activation='linear'))\n",
    "\n",
    "model_DNN.compile(\n",
    "                optimizer='adam',\n",
    "                   loss='mean_squared_error',\n",
    "                     metrics=['mse']\n",
    "\n",
    ")\n"
   ]
  },
  {
   "cell_type": "markdown",
   "id": "d54d2910",
   "metadata": {},
   "source": [
    "### Clarify Your Deep Neural Network (DNN) Model, Optimization, and Loss Function Choices and justify "
   ]
  },
  {
   "cell_type": "markdown",
   "id": "5e94ee60",
   "metadata": {},
   "source": [
    "- Input neurons: 6 features in the dataset.\n",
    "\n",
    "- Hidden neurons: we have 3 layers are hidden, and each layer has 32 neaurons.\n",
    "\n",
    "- Output neurons: 1 neauron for predicting a continuous value.\n",
    "\n",
    "- Optimizer: Adam: Adaptive Moment Estimation combines aspects of RMSprop and Momentum, adjusting learning rates for each parameter individually.\n",
    "\n",
    "- Loss function: MSE bc we have Regression Tasks.\n",
    "\n",
    "- Metrics: MSE monitoring for model performance in Regression Tasks.\n"
   ]
  },
  {
   "cell_type": "markdown",
   "id": "fd026668",
   "metadata": {},
   "source": [
    "# Step 9: Train the Model"
   ]
  },
  {
   "cell_type": "code",
   "execution_count": 246,
   "id": "c3132af2",
   "metadata": {},
   "outputs": [
    {
     "name": "stdout",
     "output_type": "stream",
     "text": [
      "Epoch 1/50\n"
     ]
    },
    {
     "name": "stdout",
     "output_type": "stream",
     "text": [
      "10/10 [==============================] - 1s 24ms/step - loss: 2076064512.0000 - mse: 2076064512.0000 - val_loss: 1937632512.0000 - val_mse: 1937632512.0000\n",
      "Epoch 2/50\n",
      "10/10 [==============================] - 0s 6ms/step - loss: 2074331136.0000 - mse: 2074331136.0000 - val_loss: 1935969024.0000 - val_mse: 1935969024.0000\n",
      "Epoch 3/50\n",
      "10/10 [==============================] - 0s 6ms/step - loss: 2072581504.0000 - mse: 2072581504.0000 - val_loss: 1933977344.0000 - val_mse: 1933977344.0000\n",
      "Epoch 4/50\n",
      "10/10 [==============================] - 0s 6ms/step - loss: 2070187648.0000 - mse: 2070187648.0000 - val_loss: 1930929536.0000 - val_mse: 1930929536.0000\n",
      "Epoch 5/50\n",
      "10/10 [==============================] - 0s 6ms/step - loss: 2066151424.0000 - mse: 2066151424.0000 - val_loss: 1925759744.0000 - val_mse: 1925759744.0000\n",
      "Epoch 6/50\n",
      "10/10 [==============================] - 0s 7ms/step - loss: 2059719424.0000 - mse: 2059719424.0000 - val_loss: 1917663488.0000 - val_mse: 1917663488.0000\n",
      "Epoch 7/50\n",
      "10/10 [==============================] - 0s 6ms/step - loss: 2049783424.0000 - mse: 2049783424.0000 - val_loss: 1905489920.0000 - val_mse: 1905489920.0000\n",
      "Epoch 8/50\n",
      "10/10 [==============================] - 0s 6ms/step - loss: 2034992384.0000 - mse: 2034992384.0000 - val_loss: 1887407360.0000 - val_mse: 1887407360.0000\n",
      "Epoch 9/50\n",
      "10/10 [==============================] - 0s 6ms/step - loss: 2012746752.0000 - mse: 2012746752.0000 - val_loss: 1861212928.0000 - val_mse: 1861212928.0000\n",
      "Epoch 10/50\n",
      "10/10 [==============================] - 0s 6ms/step - loss: 1981452928.0000 - mse: 1981452928.0000 - val_loss: 1823993856.0000 - val_mse: 1823993856.0000\n",
      "Epoch 11/50\n",
      "10/10 [==============================] - 0s 6ms/step - loss: 1936894336.0000 - mse: 1936894336.0000 - val_loss: 1772806144.0000 - val_mse: 1772806144.0000\n",
      "Epoch 12/50\n",
      "10/10 [==============================] - 0s 6ms/step - loss: 1876830592.0000 - mse: 1876830592.0000 - val_loss: 1703761536.0000 - val_mse: 1703761536.0000\n",
      "Epoch 13/50\n",
      "10/10 [==============================] - 0s 14ms/step - loss: 1796764288.0000 - mse: 1796764288.0000 - val_loss: 1613668096.0000 - val_mse: 1613668096.0000\n",
      "Epoch 14/50\n",
      "10/10 [==============================] - 0s 7ms/step - loss: 1693628928.0000 - mse: 1693628928.0000 - val_loss: 1500682880.0000 - val_mse: 1500682880.0000\n",
      "Epoch 15/50\n",
      "10/10 [==============================] - 0s 6ms/step - loss: 1565765248.0000 - mse: 1565765248.0000 - val_loss: 1364276608.0000 - val_mse: 1364276608.0000\n",
      "Epoch 16/50\n",
      "10/10 [==============================] - 0s 6ms/step - loss: 1412977408.0000 - mse: 1412977408.0000 - val_loss: 1205846528.0000 - val_mse: 1205846528.0000\n",
      "Epoch 17/50\n",
      "10/10 [==============================] - 0s 6ms/step - loss: 1236559488.0000 - mse: 1236559488.0000 - val_loss: 1031121728.0000 - val_mse: 1031121728.0000\n",
      "Epoch 18/50\n",
      "10/10 [==============================] - 0s 6ms/step - loss: 1047533760.0000 - mse: 1047533760.0000 - val_loss: 847965824.0000 - val_mse: 847965824.0000\n",
      "Epoch 19/50\n",
      "10/10 [==============================] - 0s 8ms/step - loss: 855177600.0000 - mse: 855177600.0000 - val_loss: 671782080.0000 - val_mse: 671782080.0000\n",
      "Epoch 20/50\n",
      "10/10 [==============================] - 0s 9ms/step - loss: 673187200.0000 - mse: 673187200.0000 - val_loss: 523087808.0000 - val_mse: 523087808.0000\n",
      "Epoch 21/50\n",
      "10/10 [==============================] - 0s 7ms/step - loss: 523092288.0000 - mse: 523092288.0000 - val_loss: 415561184.0000 - val_mse: 415561184.0000\n",
      "Epoch 22/50\n",
      "10/10 [==============================] - 0s 6ms/step - loss: 418835392.0000 - mse: 418835392.0000 - val_loss: 353965408.0000 - val_mse: 353965408.0000\n",
      "Epoch 23/50\n",
      "10/10 [==============================] - 0s 6ms/step - loss: 356790112.0000 - mse: 356790112.0000 - val_loss: 331172416.0000 - val_mse: 331172416.0000\n",
      "Epoch 24/50\n",
      "10/10 [==============================] - 0s 6ms/step - loss: 329198784.0000 - mse: 329198784.0000 - val_loss: 327239520.0000 - val_mse: 327239520.0000\n",
      "Epoch 25/50\n",
      "10/10 [==============================] - 0s 13ms/step - loss: 322625504.0000 - mse: 322625504.0000 - val_loss: 327768800.0000 - val_mse: 327768800.0000\n",
      "Epoch 26/50\n",
      "10/10 [==============================] - 0s 7ms/step - loss: 316321792.0000 - mse: 316321792.0000 - val_loss: 324347680.0000 - val_mse: 324347680.0000\n",
      "Epoch 27/50\n",
      "10/10 [==============================] - 0s 7ms/step - loss: 310404960.0000 - mse: 310404960.0000 - val_loss: 317088160.0000 - val_mse: 317088160.0000\n",
      "Epoch 28/50\n",
      "10/10 [==============================] - 0s 6ms/step - loss: 304388352.0000 - mse: 304388352.0000 - val_loss: 310028640.0000 - val_mse: 310028640.0000\n",
      "Epoch 29/50\n",
      "10/10 [==============================] - 0s 6ms/step - loss: 298805440.0000 - mse: 298805440.0000 - val_loss: 303034016.0000 - val_mse: 303034016.0000\n",
      "Epoch 30/50\n",
      "10/10 [==============================] - 0s 6ms/step - loss: 293004192.0000 - mse: 293004192.0000 - val_loss: 295900320.0000 - val_mse: 295900320.0000\n",
      "Epoch 31/50\n",
      "10/10 [==============================] - 0s 6ms/step - loss: 287575424.0000 - mse: 287575424.0000 - val_loss: 289490912.0000 - val_mse: 289490912.0000\n",
      "Epoch 32/50\n",
      "10/10 [==============================] - 0s 6ms/step - loss: 281726016.0000 - mse: 281726016.0000 - val_loss: 284617824.0000 - val_mse: 284617824.0000\n",
      "Epoch 33/50\n",
      "10/10 [==============================] - 0s 6ms/step - loss: 275745120.0000 - mse: 275745120.0000 - val_loss: 279179584.0000 - val_mse: 279179584.0000\n",
      "Epoch 34/50\n",
      "10/10 [==============================] - 0s 6ms/step - loss: 269798240.0000 - mse: 269798240.0000 - val_loss: 273120320.0000 - val_mse: 273120320.0000\n",
      "Epoch 35/50\n",
      "10/10 [==============================] - 0s 6ms/step - loss: 263975776.0000 - mse: 263975776.0000 - val_loss: 266323168.0000 - val_mse: 266323168.0000\n",
      "Epoch 36/50\n",
      "10/10 [==============================] - 0s 6ms/step - loss: 257910688.0000 - mse: 257910688.0000 - val_loss: 260476512.0000 - val_mse: 260476512.0000\n",
      "Epoch 37/50\n",
      "10/10 [==============================] - 0s 6ms/step - loss: 251907584.0000 - mse: 251907584.0000 - val_loss: 253407024.0000 - val_mse: 253407024.0000\n",
      "Epoch 38/50\n",
      "10/10 [==============================] - 0s 7ms/step - loss: 245884240.0000 - mse: 245884240.0000 - val_loss: 247892640.0000 - val_mse: 247892640.0000\n",
      "Epoch 39/50\n",
      "10/10 [==============================] - 0s 6ms/step - loss: 239910992.0000 - mse: 239910992.0000 - val_loss: 240977328.0000 - val_mse: 240977328.0000\n",
      "Epoch 40/50\n",
      "10/10 [==============================] - 0s 6ms/step - loss: 233761968.0000 - mse: 233761968.0000 - val_loss: 235339008.0000 - val_mse: 235339008.0000\n",
      "Epoch 41/50\n",
      "10/10 [==============================] - 0s 6ms/step - loss: 227485056.0000 - mse: 227485056.0000 - val_loss: 228819808.0000 - val_mse: 228819808.0000\n",
      "Epoch 42/50\n",
      "10/10 [==============================] - 0s 6ms/step - loss: 221343696.0000 - mse: 221343696.0000 - val_loss: 221968160.0000 - val_mse: 221968160.0000\n",
      "Epoch 43/50\n",
      "10/10 [==============================] - 0s 6ms/step - loss: 215484800.0000 - mse: 215484800.0000 - val_loss: 216027984.0000 - val_mse: 216027984.0000\n",
      "Epoch 44/50\n",
      "10/10 [==============================] - 0s 6ms/step - loss: 208851968.0000 - mse: 208851968.0000 - val_loss: 209567904.0000 - val_mse: 209567904.0000\n",
      "Epoch 45/50\n",
      "10/10 [==============================] - 0s 6ms/step - loss: 202957856.0000 - mse: 202957856.0000 - val_loss: 202771792.0000 - val_mse: 202771792.0000\n",
      "Epoch 46/50\n",
      "10/10 [==============================] - 0s 6ms/step - loss: 196841168.0000 - mse: 196841168.0000 - val_loss: 196616224.0000 - val_mse: 196616224.0000\n",
      "Epoch 47/50\n",
      "10/10 [==============================] - 0s 6ms/step - loss: 190472880.0000 - mse: 190472880.0000 - val_loss: 190869856.0000 - val_mse: 190869856.0000\n",
      "Epoch 48/50\n",
      "10/10 [==============================] - 0s 6ms/step - loss: 184678192.0000 - mse: 184678192.0000 - val_loss: 184665984.0000 - val_mse: 184665984.0000\n",
      "Epoch 49/50\n",
      "10/10 [==============================] - 0s 6ms/step - loss: 178622512.0000 - mse: 178622512.0000 - val_loss: 178010416.0000 - val_mse: 178010416.0000\n",
      "Epoch 50/50\n",
      "10/10 [==============================] - 0s 11ms/step - loss: 172972368.0000 - mse: 172972368.0000 - val_loss: 171551520.0000 - val_mse: 171551520.0000\n"
     ]
    }
   ],
   "source": [
    "start_time_DNN = time.time()\n",
    "model_DNN.fit(X_train,Y_train, epochs=50, batch_size=32, validation_split=0.2)\n",
    "training_time_DNN = time.time() - start_time_DNN\n"
   ]
  },
  {
   "cell_type": "markdown",
   "id": "2c47aa76",
   "metadata": {},
   "source": [
    "# Step 10: Evaluate the Model"
   ]
  },
  {
   "cell_type": "code",
   "execution_count": 247,
   "metadata": {},
   "outputs": [
    {
     "name": "stdout",
     "output_type": "stream",
     "text": [
      "4/4 [==============================] - 0s 2ms/step\n"
     ]
    }
   ],
   "source": [
    "start_time_DNN = time.time()\n",
    "Y_pred_DNN = model_DNN.predict(X_test)\n",
    "prediction_time_DNN = time.time() - start_time_DNN"
   ]
  },
  {
   "cell_type": "code",
   "execution_count": 248,
   "id": "ff9d5311",
   "metadata": {},
   "outputs": [
    {
     "name": "stdout",
     "output_type": "stream",
     "text": [
      "MSE: 183962920.87\n",
      "MAE: 11600.14\n"
     ]
    }
   ],
   "source": [
    "mse_DNN = mean_squared_error(Y_test, Y_pred_DNN)\n",
    "mae_DNN = mean_absolute_error(Y_test,Y_pred_DNN)\n",
    "\n",
    "print(f'MSE: {mse_DNN:.2f}')\n",
    "print(f'MAE: {mae_DNN:.2f}')\n"
   ]
  },
  {
   "cell_type": "markdown",
   "id": "118a14bd",
   "metadata": {},
   "source": [
    "# Step 11: Evaluate and Compare Scores, Training Time, and Prediction Time of ANN/DNN Models"
   ]
  },
  {
   "cell_type": "code",
   "execution_count": 253,
   "metadata": {},
   "outputs": [
    {
     "name": "stdout",
     "output_type": "stream",
     "text": [
      "ANN Metrics:\n",
      "Mean Squared Error: 2044589132.72\n",
      "Mean Absolute Error: 44008.64\n",
      "\n",
      "DNN Metrics:\n",
      "Mean Squared Error: 183962920.87\n",
      "Mean Absolute Error: 11600.14\n",
      "\n",
      "Training Time:\n",
      "ANN Training Time:4.1567 seconds\n",
      "DNN Training Time: 4.4311 seconds\n",
      "\n",
      "Prediction Time:\n",
      "ANN Prediction Time: 0.1449 seconds\n",
      "DNN Prediction Time: 0.1493 seconds\n"
     ]
    }
   ],
   "source": [
    "\n",
    "print(\"ANN Metrics:\")\n",
    "print(f\"Mean Squared Error: {mse_ANN:.2f}\")\n",
    "print(f\"Mean Absolute Error: {mae_ANN:.2f}\")\n",
    "\n",
    "print(\"\\nDNN Metrics:\")\n",
    "print(f\"Mean Squared Error: {mse_DNN:.2f}\")\n",
    "print(f\"Mean Absolute Error: {mae_DNN:.2f}\")\n",
    "\n",
    "print(\"\\nTraining Time:\")\n",
    "print(f\"ANN Training Time:{training_time_ANN:.4f}\", \"seconds\")\n",
    "print(f\"DNN Training Time: {training_time_DNN:.4f}\", \"seconds\")\n",
    "\n",
    "print(\"\\nPrediction Time:\")\n",
    "print(f\"ANN Prediction Time: {prediction_time_ANN:.4f}\", \"seconds\")\n",
    "print(f\"DNN Prediction Time: {prediction_time_DNN:.4f}\", \"seconds\")"
   ]
  }
 ],
 "metadata": {
  "kernelspec": {
   "display_name": "Python 3 (ipykernel)",
   "language": "python",
   "name": "python3"
  },
  "language_info": {
   "codemirror_mode": {
    "name": "ipython",
    "version": 3
   },
   "file_extension": ".py",
   "mimetype": "text/x-python",
   "name": "python",
   "nbconvert_exporter": "python",
   "pygments_lexer": "ipython3",
   "version": "3.9.13"
  }
 },
 "nbformat": 4,
 "nbformat_minor": 5
}
